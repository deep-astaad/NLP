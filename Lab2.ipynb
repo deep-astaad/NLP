{
 "cells": [
  {
   "cell_type": "code",
   "execution_count": 48,
   "metadata": {},
   "outputs": [
    {
     "name": "stdout",
     "output_type": "stream",
     "text": [
      "eating - eat - eating - ate - eaten\n"
     ]
    }
   ],
   "source": [
    "import spacy\n",
    "import pyinflect\n",
    "\n",
    "nlp = spacy.load(\"en_core_web_trf\")\n",
    "\n",
    "verbs = \"eating\"\n",
    "doc = nlp(verbs)\n",
    "for token in doc:\n",
    "  if token.pos_ == 'VERB' :\n",
    "    base = token._.inflect(\"VB\")\n",
    "    gerund = token._.inflect(\"VBG\")\n",
    "    past_tense = token._.inflect(\"VBD\")\n",
    "    past_participle = token._.inflect(\"VBN\")\n",
    "    print(token.text, \"-\", base, \"-\", gerund, \"-\", past_tense, \"-\", past_participle)\n",
    "  elif token.pos_ == 'NOUN' :\n",
    "    # if token.tag_ == 'WP' :\n",
    "    #     base = token._.inflect(\"WP\")\n",
    "    #     plural = \"NA\"\n",
    "    # elif token.tag_ == 'NNS' or token.tag_ == 'NN' : \n",
    "    base = token._.inflect(\"NN\")\n",
    "    plural = token._.inflect(\"NNS\")\n",
    "    print(token.text, \"-\", base, \"-\", plural)"
   ]
  }
 ],
 "metadata": {
  "kernelspec": {
   "display_name": "Python 3.10.6 64-bit",
   "language": "python",
   "name": "python3"
  },
  "language_info": {
   "codemirror_mode": {
    "name": "ipython",
    "version": 3
   },
   "file_extension": ".py",
   "mimetype": "text/x-python",
   "name": "python",
   "nbconvert_exporter": "python",
   "pygments_lexer": "ipython3",
   "version": "3.10.6"
  },
  "orig_nbformat": 4,
  "vscode": {
   "interpreter": {
    "hash": "26de051ba29f2982a8de78e945f0abaf191376122a1563185a90213a26c5da77"
   }
  }
 },
 "nbformat": 4,
 "nbformat_minor": 2
}
